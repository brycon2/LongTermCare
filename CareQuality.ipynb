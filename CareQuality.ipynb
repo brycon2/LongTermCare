{
 "cells": [
  {
   "cell_type": "markdown",
   "metadata": {},
   "source": [
    "# Studying Care Quality for Hospitals Using Medicare Data"
   ]
  },
  {
   "cell_type": "markdown",
   "metadata": {},
   "source": [
    "## About the Dataset"
   ]
  },
  {
   "cell_type": "markdown",
   "metadata": {},
   "source": [
    "## Code Plan"
   ]
  },
  {
   "cell_type": "markdown",
   "metadata": {},
   "source": [
    "## Libraries"
   ]
  },
  {
   "cell_type": "code",
   "execution_count": 1,
   "metadata": {},
   "outputs": [],
   "source": [
    "# Data Manipulation\n",
    "import numpy as np\n",
    "import pandas as pd\n",
    "# Data visualization\n",
    "import seaborn as sb\n",
    "import matplotlib as plt\n",
    "# Machine Learning\n"
   ]
  },
  {
   "cell_type": "markdown",
   "metadata": {},
   "source": [
    "## Data Manipulation\n",
    "After loading in the data, unnecessary columns for the purposes of this project were removed. Within the score column, data is missing in ~3% of cases so I chose to replace with the national average as it will not overly affect the data. "
   ]
  },
  {
   "cell_type": "code",
   "execution_count": 73,
   "metadata": {},
   "outputs": [
    {
     "data": {
      "text/plain": [
       "0                                           921\n",
       "Not Available                               822\n",
       "No Different than the National Benchmark    662\n",
       "100                                         533\n",
       "No Different than the National Rate         488\n",
       "                                           ... \n",
       "24.84                                         1\n",
       "21.85                                         1\n",
       "822                                           1\n",
       "679                                           1\n",
       "27.89                                         1\n",
       "Name: Score, Length: 5960, dtype: int64"
      ]
     },
     "execution_count": 73,
     "metadata": {},
     "output_type": "execute_result"
    }
   ],
   "source": [
    "# Data Manipulation\n",
    "\n",
    "# Downloading the 3 CSV files by loading dataframes and removing unnecessary columns\n",
    "general_info = pd.read_csv(\"./data/Long-Term_Care_Hospital-General_Information_Dec2021.csv\", delimiter = \",\")\n",
    "general_info.drop([\"Address Line 1\",\"Address Line 2\",\"Phone Number\"], axis = 1, inplace = True)\n",
    "\n",
    "national_data = pd.read_csv(\"./data/Long-Term_Care_Hospital-National_Data_Dec2021.csv\", delimiter = \",\")\n",
    "national_data.drop([\"Start Date\", \"End Date\"],axis = 1, inplace = True )\n",
    "\n",
    "provider_data = pd.read_csv(\"./data/Long-Term_Care_Hospital-Provider_Data_Dec2021.csv\",delimiter = \";\")\n",
    "provider_data.drop([\"Start Date\", \"End Date\"],axis = 1, inplace = True )\n",
    "\n",
    "provider_data['Score'].value_counts()\n",
    "\n",
    "# Taking national average data and putting into dictionary to then replace missing values\n",
    "#national_avgs = national_data.set_index(\"Measure Code\").to_dict()[\"Score\"] \n",
    "#for key in list(national_avgs): # This for loop is to create \n",
    "#    new_key = key + \"_avg\"\n",
    "#    national_avgs[new_key] = national_avgs.pop(key)\n",
    "\n",
    "#provider_data.loc[provider_data[\"Score\"] == \"No Different than the National Benchmark\", \"Score\"] = provider_data[\"Measure Code\"] \n",
    "#provider_data[\"Score\"].replace(national_avgs, inplace = True)"
   ]
  }
 ],
 "metadata": {
  "interpreter": {
   "hash": "e404b59586357c814bc0d3940e75d6763c00a48753b225b81f7716971b8e1741"
  },
  "kernelspec": {
   "display_name": "Python 3.8.2 64-bit",
   "language": "python",
   "name": "python3"
  },
  "language_info": {
   "codemirror_mode": {
    "name": "ipython",
    "version": 3
   },
   "file_extension": ".py",
   "mimetype": "text/x-python",
   "name": "python",
   "nbconvert_exporter": "python",
   "pygments_lexer": "ipython3",
   "version": "3.8.2"
  },
  "orig_nbformat": 4
 },
 "nbformat": 4,
 "nbformat_minor": 2
}
